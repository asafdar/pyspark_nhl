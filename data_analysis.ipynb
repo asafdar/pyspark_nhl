{
 "cells": [
  {
   "cell_type": "markdown",
   "metadata": {},
   "source": [
    "### Read Data"
   ]
  },
  {
   "cell_type": "code",
   "execution_count": null,
   "metadata": {},
   "outputs": [],
   "source": [
    "# Load data from a CSV\n",
    "file_location = \"/FileStore/tables/game_skater_stats.csv\"\n",
    "df = spark.read.format(\"CSV\").option(\"inferSchema\", True).option(\"header\", True).load(file_location)\n",
    "display(df.take(5))"
   ]
  },
  {
   "cell_type": "markdown",
   "metadata": {},
   "source": [
    "### Write Data"
   ]
  },
  {
   "cell_type": "code",
   "execution_count": null,
   "metadata": {},
   "outputs": [],
   "source": [
    "# Save as CSV and parquet\n",
    "\n",
    "# DBFS\n",
    "df.write.save('/FileStore/parquet/game__stats', format='parquet')\n",
    "\n",
    "# S3\n",
    "#df.write.parquet(\"s3a://my_bucket/game_skater_stats\", mode=\"overwrite\")\n",
    "\n",
    "# DBFS\n",
    "df.write.save('/FileStore/parquet/game__stats.csv', format='csv')\n",
    "\n",
    "# S3\n",
    "#df.coalesce(1).write.format(\"com.databricks.spark.csv\")\n",
    "#   .option(\"header\", \"true\").save(\"s3a://my_bucket/game_skater_stats.csv\")"
   ]
  },
  {
   "cell_type": "markdown",
   "metadata": {},
   "source": [
    "### Transform Data"
   ]
  },
  {
   "cell_type": "code",
   "execution_count": null,
   "metadata": {},
   "outputs": [],
   "source": [
    "\n",
    "df.createOrReplaceTempView(\"stats\")\n",
    "\n",
    "display(spark.sql(\"\"\"\n",
    "  select player_id, sum(1) as games, sum(goals) as goals\n",
    "  from stats\n",
    "  group by 1\n",
    "  order by 3 desc\n",
    "  limit 5\n",
    "\"\"\"))"
   ]
  },
  {
   "cell_type": "code",
   "execution_count": null,
   "metadata": {},
   "outputs": [],
   "source": [
    "\n",
    "# player names\n",
    "file_location = \"/FileStore/tables/player_info.csv\"\n",
    "names = spark.read.format(\"CSV\").option(\"inferSchema\", True).option(\"header\", True).load(file_location)\n",
    "#display(names)"
   ]
  },
  {
   "cell_type": "code",
   "execution_count": null,
   "metadata": {},
   "outputs": [],
   "source": [
    "df.createOrReplaceTempView(\"stats\")\n",
    "\n",
    "top_players = spark.sql(\"\"\"\n",
    "select player_id, sum(1) as games, sum(goals) as goals\n",
    "from stats\n",
    "group by 1\n",
    "order by 3 desc\n",
    "limit 5\n",
    "\"\"\")\n",
    "\n",
    "top_players.createOrReplaceTempView(\"top_players\")\n",
    "names.createOrReplaceTempView(\"names\")\n",
    "\n",
    "display(spark.sql(\"\"\"\n",
    "select p.player_id, goals, firstName, lastName\n",
    "from top_players p\n",
    "join names n\n",
    "  on p.player_id = n.player_id\n",
    "order by 2 desc  \n",
    "\"\"\"))"
   ]
  },
  {
   "cell_type": "code",
   "execution_count": null,
   "metadata": {},
   "outputs": [],
   "source": [
    "\n",
    "display(spark.sql(\"\"\"\n",
    "select cast(substring(game_id, 1, 4) || '-' \n",
    "  || substring(game_id, 5, 2) || '-01' as Date) as month\n",
    "  , sum(goals)/count(distinct game_id) as goals_per_goal\n",
    "from stats\n",
    "group by 1\n",
    "order by 1\n",
    "\"\"\"))"
   ]
  },
  {
   "cell_type": "code",
   "execution_count": null,
   "metadata": {},
   "outputs": [],
   "source": [
    ":\n",
    "display(spark.sql(\"\"\"\n",
    "select cast(goals/shots * 50 as int)/50.0 as Goals_per_shot, sum(1) as Players \n",
    "from (\n",
    "  select player_id, sum(shots) as shots, sum(goals) as goals\n",
    "  from stats\n",
    "  group by 1\n",
    "  having goals >= 5\n",
    ")  \n",
    "group by 1\n",
    "order by 1\n",
    "\"\"\"))"
   ]
  },
  {
   "cell_type": "markdown",
   "metadata": {},
   "source": [
    "### Linear Regression"
   ]
  },
  {
   "cell_type": "code",
   "execution_count": null,
   "metadata": {},
   "outputs": [],
   "source": [
    "\n",
    "from pyspark.ml.feature import VectorAssembler\n",
    "from pyspark.ml.regression import LinearRegression\n",
    "\n",
    "assembler = VectorAssembler(inputCols=['shots', 'hits', 'assists', 'penaltyMinutes', 'timeOnIce', 'takeaways'], outputCol=\"features\" )\n",
    "train_df = assembler.transform(df) \n",
    "\n",
    "lr = LinearRegression(featuresCol = 'features', labelCol='goals')\n",
    "lr_model = lr.fit(train_df)\n",
    "\n",
    "trainingSummary = lr_model.summary\n",
    "print(\"Coefficients: \" + str(lr_model.coefficients))\n",
    "print(\"RMSE: %f\" % trainingSummary.rootMeanSquaredError)\n",
    "print(\"R2: %f\" % trainingSummary.r2)"
   ]
  },
  {
   "cell_type": "markdown",
   "metadata": {},
   "source": [
    "### Pandas UDFs"
   ]
  },
  {
   "cell_type": "code",
   "execution_count": null,
   "metadata": {},
   "outputs": [],
   "source": [
    "# creating a linear fit for a single player\n",
    "\n",
    "df.createOrReplaceTempView(\"stats\")\n",
    "\n",
    "sample_pd = spark.sql(\"\"\"\n",
    "select * from stats\n",
    "where player_id = 8471214\n",
    "\"\"\").toPandas()\n",
    "\n",
    "from scipy.optimize import leastsq\n",
    "import numpy as np\n",
    "\n",
    "def fit(params, x, y):\n",
    "    return (y - (params[0] + x * params[1] ))  \n",
    "\n",
    "result = leastsq(fit, [1, 0], args=(sample_pd.shots, sample_pd.hits))\n",
    "print(result)"
   ]
  },
  {
   "cell_type": "code",
   "execution_count": null,
   "metadata": {},
   "outputs": [],
   "source": [
    "from pyspark.sql.functions import pandas_udf, PandasUDFType\n",
    "from pyspark.sql.types import *\n",
    "import pandas as pd\n",
    "\n",
    "schema = StructType([StructField('ID', LongType(), True),\n",
    "                     StructField('p0', DoubleType(), True),\n",
    "                     StructField('p1', DoubleType(), True)])  \n",
    "\n",
    "  \n",
    "@pandas_udf(schema, PandasUDFType.GROUPED_MAP)\n",
    "def analyze_player(sample_pd):\n",
    "  \n",
    "    if (len(sample_pd.shots) <= 1):\n",
    "        return pd.DataFrame({'ID': [sample_pd.player_id[0]], 'p0': [ 0 ], 'p1': [ 0 ]})\n",
    "    \n",
    "    result = leastsq(fit, [1, 0], args=(sample_pd.shots, sample_pd.hits))\n",
    "    return pd.DataFrame({'ID': [sample_pd.player_id[0]], 'p0': [result[0][0]], 'p1': [result[0][1]]})\n",
    "\n",
    "player_df = df.groupby('player_id').apply(analyze_player)\n",
    "display(player_df.take(5))"
   ]
  },
  {
   "cell_type": "code",
   "execution_count": null,
   "metadata": {},
   "outputs": [],
   "source": []
  }
 ],
 "metadata": {
  "kernelspec": {
   "display_name": "Python 3",
   "language": "python",
   "name": "python3"
  },
  "language_info": {
   "codemirror_mode": {
    "name": "ipython",
    "version": 3
   },
   "file_extension": ".py",
   "mimetype": "text/x-python",
   "name": "python",
   "nbconvert_exporter": "python",
   "pygments_lexer": "ipython3",
   "version": "3.7.4"
  }
 },
 "nbformat": 4,
 "nbformat_minor": 2
}
