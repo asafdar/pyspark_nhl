{
 "cells": [
  {
   "cell_type": "markdown",
   "metadata": {},
   "source": [
    "### Read Data"
   ]
  },
  {
   "cell_type": "code",
   "execution_count": null,
   "metadata": {},
   "outputs": [],
   "source": [
    "# Load data from a CSV\n",
    "file_location = \"/FileStore/tables/game_skater_stats.csv\"\n",
    "df = spark.read.format(\"CSV\").option(\"inferSchema\", True).option(\"header\", True).load(file_location)\n",
    "display(df.take(5))"
   ]
  },
  {
   "cell_type": "markdown",
   "metadata": {},
   "source": [
    "### Write Data"
   ]
  },
  {
   "cell_type": "code",
   "execution_count": null,
   "metadata": {},
   "outputs": [],
   "source": [
    "# Save as CSV and parquet\n",
    "\n",
    "# DBFS\n",
    "df.write.save('/FileStore/parquet/game__stats', format='parquet')\n",
    "\n",
    "# S3\n",
    "#df.write.parquet(\"s3a://my_bucket/game_skater_stats\", mode=\"overwrite\")\n",
    "\n",
    "# DBFS\n",
    "df.write.save('/FileStore/parquet/game__stats.csv', format='csv')\n",
    "\n",
    "# S3\n",
    "#df.coalesce(1).write.format(\"com.databricks.spark.csv\")\n",
    "#   .option(\"header\", \"true\").save(\"s3a://my_bucket/game_skater_stats.csv\")"
   ]
  },
  {
   "cell_type": "markdown",
   "metadata": {},
   "source": [
    "### Transform Data"
   ]
  },
  {
   "cell_type": "code",
   "execution_count": null,
   "metadata": {},
   "outputs": [],
   "source": [
    "\n",
    "df.createOrReplaceTempView(\"stats\")\n",
    "\n",
    "display(spark.sql(\"\"\"\n",
    "  select player_id, sum(1) as games, sum(goals) as goals\n",
    "  from stats\n",
    "  group by 1\n",
    "  order by 3 desc\n",
    "  limit 5\n",
    "\"\"\"))"
   ]
  },
  {
   "cell_type": "code",
   "execution_count": null,
   "metadata": {},
   "outputs": [],
   "source": [
    "\n",
    "# player names\n",
    "file_location = \"/FileStore/tables/player_info.csv\"\n",
    "names = spark.read.format(\"CSV\").option(\"inferSchema\", True).option(\"header\", True).load(file_location)\n",
    "#display(names)"
   ]
  },
  {
   "cell_type": "code",
   "execution_count": null,
   "metadata": {},
   "outputs": [],
   "source": [
    "df.createOrReplaceTempView(\"stats\")\n",
    "\n",
    "top_players = spark.sql(\"\"\"\n",
    "select player_id, sum(1) as games, sum(goals) as goals\n",
    "from stats\n",
    "group by 1\n",
    "order by 3 desc\n",
    "limit 5\n",
    "\"\"\")\n",
    "\n",
    "top_players.createOrReplaceTempView(\"top_players\")\n",
    "names.createOrReplaceTempView(\"names\")\n",
    "\n",
    "display(spark.sql(\"\"\"\n",
    "select p.player_id, goals, firstName, lastName\n",
    "from top_players p\n",
    "join names n\n",
    "  on p.player_id = n.player_id\n",
    "order by 2 desc  \n",
    "\"\"\"))"
   ]
  },
  {
   "cell_type": "code",
   "execution_count": null,
   "metadata": {},
   "outputs": [],
   "source": [
    "\n",
    "display(spark.sql(\"\"\"\n",
    "select cast(substring(game_id, 1, 4) || '-' \n",
    "  || substring(game_id, 5, 2) || '-01' as Date) as month\n",
    "  , sum(goals)/count(distinct game_id) as goals_per_goal\n",
    "from stats\n",
    "group by 1\n",
    "order by 1\n",
    "\"\"\"))"
   ]
  },
  {
   "cell_type": "code",
   "execution_count": null,
   "metadata": {},
   "outputs": [],
   "source": [
    ":\n",
    "display(spark.sql(\"\"\"\n",
    "select cast(goals/shots * 50 as int)/50.0 as Goals_per_shot, sum(1) as Players \n",
    "from (\n",
    "  select player_id, sum(shots) as shots, sum(goals) as goals\n",
    "  from stats\n",
    "  group by 1\n",
    "  having goals >= 5\n",
    ")  \n",
    "group by 1\n",
    "order by 1\n",
    "\"\"\"))"
   ]
  }
 ],
 "metadata": {
  "kernelspec": {
   "display_name": "Python 3",
   "language": "python",
   "name": "python3"
  },
  "language_info": {
   "codemirror_mode": {
    "name": "ipython",
    "version": 3
   },
   "file_extension": ".py",
   "mimetype": "text/x-python",
   "name": "python",
   "nbconvert_exporter": "python",
   "pygments_lexer": "ipython3",
   "version": "3.7.4"
  }
 },
 "nbformat": 4,
 "nbformat_minor": 2
}
