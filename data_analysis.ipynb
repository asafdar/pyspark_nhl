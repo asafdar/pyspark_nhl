{
 "cells": [
  {
   "cell_type": "markdown",
   "metadata": {},
   "source": [
    "### Read Data"
   ]
  },
  {
   "cell_type": "code",
   "execution_count": null,
   "metadata": {},
   "outputs": [],
   "source": [
    "# Load data from a CSV\n",
    "file_location = \"/FileStore/tables/game_skater_stats.csv\"\n",
    "df = spark.read.format(\"CSV\").option(\"inferSchema\", True).option(\"header\", True).load(file_location)\n",
    "display(df.take(5))"
   ]
  },
  {
   "cell_type": "markdown",
   "metadata": {},
   "source": [
    "### Write Data"
   ]
  },
  {
   "cell_type": "code",
   "execution_count": null,
   "metadata": {},
   "outputs": [],
   "source": [
    "# Save as CSV and parquet\n",
    "\n",
    "# DBFS\n",
    "df.write.save('/FileStore/parquet/game__stats', format='parquet')\n",
    "\n",
    "# S3\n",
    "#df.write.parquet(\"s3a://my_bucket/game_skater_stats\", mode=\"overwrite\")\n",
    "\n",
    "# DBFS\n",
    "df.write.save('/FileStore/parquet/game__stats.csv', format='csv')\n",
    "\n",
    "# S3\n",
    "#df.coalesce(1).write.format(\"com.databricks.spark.csv\")\n",
    "#   .option(\"header\", \"true\").save(\"s3a://my_bucket/game_skater_stats.csv\")"
   ]
  },
  {
   "cell_type": "markdown",
   "metadata": {},
   "source": [
    "### Transform Data"
   ]
  },
  {
   "cell_type": "code",
   "execution_count": null,
   "metadata": {},
   "outputs": [],
   "source": []
  }
 ],
 "metadata": {
  "kernelspec": {
   "display_name": "Python 3",
   "language": "python",
   "name": "python3"
  },
  "language_info": {
   "codemirror_mode": {
    "name": "ipython",
    "version": 3
   },
   "file_extension": ".py",
   "mimetype": "text/x-python",
   "name": "python",
   "nbconvert_exporter": "python",
   "pygments_lexer": "ipython3",
   "version": "3.7.4"
  }
 },
 "nbformat": 4,
 "nbformat_minor": 2
}
